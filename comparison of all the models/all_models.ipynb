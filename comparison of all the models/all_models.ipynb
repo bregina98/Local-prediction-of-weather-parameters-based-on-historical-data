{
 "cells": [
  {
   "cell_type": "markdown",
   "metadata": {},
   "source": [
    "# Comparison of all the models\n",
    "\n",
    "Finally, I will compare all the models (2 ARIMA, 2 simple, VAR, VAR sinus) of all the weather parameters. I will plot histograms of the absolute error of the models compared to the actual data."
   ]
  },
  {
   "cell_type": "code",
   "execution_count": 15,
   "metadata": {},
   "outputs": [],
   "source": [
    "# libraries\n",
    "import pandas as pd\n",
    "import numpy as np\n",
    "import matplotlib.pyplot as plt\n",
    "from dateutil import parser\n",
    "import os\n",
    "from statsmodels.tsa.arima.model import ARIMA\n",
    "import warnings\n",
    "warnings.filterwarnings(\"ignore\")\n",
    "from statsmodels.tsa.api import VAR"
   ]
  },
  {
   "cell_type": "code",
   "execution_count": 7,
   "metadata": {},
   "outputs": [
    {
     "data": {
      "text/html": [
       "<div>\n",
       "<style scoped>\n",
       "    .dataframe tbody tr th:only-of-type {\n",
       "        vertical-align: middle;\n",
       "    }\n",
       "\n",
       "    .dataframe tbody tr th {\n",
       "        vertical-align: top;\n",
       "    }\n",
       "\n",
       "    .dataframe thead th {\n",
       "        text-align: right;\n",
       "    }\n",
       "</style>\n",
       "<table border=\"1\" class=\"dataframe\">\n",
       "  <thead>\n",
       "    <tr style=\"text-align: right;\">\n",
       "      <th></th>\n",
       "      <th>AIR_PRESSURE</th>\n",
       "      <th>AMBIENT_TEMPERATURE</th>\n",
       "      <th>RAIN_INTENSITY</th>\n",
       "      <th>RELATIVE_HUMIDITY</th>\n",
       "      <th>SOLAR_RADIATION_INTENSITY</th>\n",
       "      <th>WIND_DIRECTION</th>\n",
       "      <th>WIND_SPEED</th>\n",
       "    </tr>\n",
       "  </thead>\n",
       "  <tbody>\n",
       "    <tr>\n",
       "      <th>2020-10-13 10:00:00+00:00</th>\n",
       "      <td>952.762500</td>\n",
       "      <td>7.687500</td>\n",
       "      <td>0.0</td>\n",
       "      <td>61.675000</td>\n",
       "      <td>300.837500</td>\n",
       "      <td>293.625000</td>\n",
       "      <td>2.357500</td>\n",
       "    </tr>\n",
       "    <tr>\n",
       "      <th>2020-10-13 11:00:00+00:00</th>\n",
       "      <td>952.366667</td>\n",
       "      <td>8.958333</td>\n",
       "      <td>0.0</td>\n",
       "      <td>56.825000</td>\n",
       "      <td>258.341667</td>\n",
       "      <td>312.666667</td>\n",
       "      <td>1.675000</td>\n",
       "    </tr>\n",
       "    <tr>\n",
       "      <th>2020-10-13 12:00:00+00:00</th>\n",
       "      <td>951.783333</td>\n",
       "      <td>10.183333</td>\n",
       "      <td>0.0</td>\n",
       "      <td>48.391667</td>\n",
       "      <td>260.816667</td>\n",
       "      <td>270.833333</td>\n",
       "      <td>0.826667</td>\n",
       "    </tr>\n",
       "    <tr>\n",
       "      <th>2020-10-13 13:00:00+00:00</th>\n",
       "      <td>951.691667</td>\n",
       "      <td>10.716667</td>\n",
       "      <td>0.0</td>\n",
       "      <td>43.625000</td>\n",
       "      <td>161.950000</td>\n",
       "      <td>291.083333</td>\n",
       "      <td>0.460833</td>\n",
       "    </tr>\n",
       "    <tr>\n",
       "      <th>2020-10-13 14:00:00+00:00</th>\n",
       "      <td>951.508333</td>\n",
       "      <td>10.833333</td>\n",
       "      <td>0.0</td>\n",
       "      <td>44.483333</td>\n",
       "      <td>155.100000</td>\n",
       "      <td>280.416667</td>\n",
       "      <td>0.477500</td>\n",
       "    </tr>\n",
       "  </tbody>\n",
       "</table>\n",
       "</div>"
      ],
      "text/plain": [
       "                           AIR_PRESSURE  AMBIENT_TEMPERATURE  RAIN_INTENSITY  \\\n",
       "2020-10-13 10:00:00+00:00    952.762500             7.687500             0.0   \n",
       "2020-10-13 11:00:00+00:00    952.366667             8.958333             0.0   \n",
       "2020-10-13 12:00:00+00:00    951.783333            10.183333             0.0   \n",
       "2020-10-13 13:00:00+00:00    951.691667            10.716667             0.0   \n",
       "2020-10-13 14:00:00+00:00    951.508333            10.833333             0.0   \n",
       "\n",
       "                           RELATIVE_HUMIDITY  SOLAR_RADIATION_INTENSITY  \\\n",
       "2020-10-13 10:00:00+00:00          61.675000                 300.837500   \n",
       "2020-10-13 11:00:00+00:00          56.825000                 258.341667   \n",
       "2020-10-13 12:00:00+00:00          48.391667                 260.816667   \n",
       "2020-10-13 13:00:00+00:00          43.625000                 161.950000   \n",
       "2020-10-13 14:00:00+00:00          44.483333                 155.100000   \n",
       "\n",
       "                           WIND_DIRECTION  WIND_SPEED  \n",
       "2020-10-13 10:00:00+00:00      293.625000    2.357500  \n",
       "2020-10-13 11:00:00+00:00      312.666667    1.675000  \n",
       "2020-10-13 12:00:00+00:00      270.833333    0.826667  \n",
       "2020-10-13 13:00:00+00:00      291.083333    0.460833  \n",
       "2020-10-13 14:00:00+00:00      280.416667    0.477500  "
      ]
     },
     "execution_count": 7,
     "metadata": {},
     "output_type": "execute_result"
    }
   ],
   "source": [
    "# data\n",
    "\n",
    "station_id=5001\n",
    "# read the .csv file into a DataFrame\n",
    "file_path = os.path.join(r'D:\\FMF magisterij\\Matematika z računalnikom', f'ELES-MAS-{station_id}-2020-2023.csv.gz')\n",
    "data = pd.read_csv(file_path, compression='gzip')\n",
    "data = data[data['data_validity'] <= 32]\n",
    "data.drop('measurement_location_inst_id', axis=1, inplace=True)\n",
    "df=pd.DataFrame(data)\n",
    "df['timestamp'] = pd.to_datetime(df['acquisition_timestamp'], utc=True)\n",
    "\n",
    "\n",
    "# rearrange the data\n",
    "new_data = df.pivot_table(index='timestamp', columns='parameter_type', values='value').reset_index()\n",
    "\n",
    "# ensure 'acquisition_timestamp' is in datetime format\n",
    "new_data['timestamp'] = pd.to_datetime(new_data['timestamp'])\n",
    "\n",
    "new_data.set_index('timestamp', inplace=True)\n",
    "\n",
    "\n",
    "# fill NaN values in the row with the values of next row with non NaN values\n",
    "new_data = new_data.fillna(method='bfill')\n",
    "\n",
    "#print('index type :',type(new_data.index))\n",
    "#new_data.head()\n",
    "\n",
    "# count the NaN values\n",
    "nan_count = new_data.isna().sum()\n",
    "#print(nan_count)\n",
    "# NO nan values\n",
    "\n",
    "# check for missing measurements (skipped times)\n",
    "complete_range = pd.date_range(start=new_data.index.min(), end=new_data.index.max(), freq='5T')\n",
    "missing_timestamps = complete_range.difference(new_data.index)\n",
    "#print(f\"missing time stamps ={len(missing_timestamps)}\")\n",
    "# print(complete_range)\n",
    "df_complete_range = pd.DataFrame(index=complete_range)\n",
    "#print(f\"df complete range = {len(df_complete_range)}\")\n",
    "\n",
    "# we have 271508 measurements, there are 5112 missing measurment out of 276620 time steps in the whole time range\n",
    "\n",
    "# merge all the measurements with all the time steps. missing measurment will be NaN values for now\n",
    "new_data_incomplete = df_complete_range.merge(new_data, left_index=True, right_index=True, how='left')\n",
    "#print(new_data_incomplete.isna().sum()) # okay\n",
    "\n",
    "# missing measurements are filled with the next available measurement\n",
    "new_data_all = new_data_incomplete.bfill()\n",
    "\n",
    "# fill NaN values in the row with the values of next row with non-NaN values\n",
    "new_data_all = new_data_all.fillna(method='bfill')\n",
    "\n",
    "# print(new_data_all)\n",
    "#print(new_data_all.isna().sum()) # okay\n",
    "\n",
    "str(new_data_all.index.dtype) # okay\n",
    "\n",
    "# resampled the data hourly with mean.\n",
    "new_data_all_resampled=new_data_all.resample('1H').mean()\n",
    "new_data_all_resampled.head()"
   ]
  },
  {
   "cell_type": "code",
   "execution_count": 12,
   "metadata": {},
   "outputs": [],
   "source": [
    "# simple model 1: today = tomorrow\n",
    "simple_1 = new_data_all_resampled.copy()\n",
    "simple_1.iloc[24:] = new_data_all_resampled.iloc[:-24].values\n",
    "simple_1.iloc[:24] = new_data_all_resampled.iloc[:24].values  # first 24hrs stay the same\n"
   ]
  },
  {
   "cell_type": "code",
   "execution_count": 13,
   "metadata": {},
   "outputs": [],
   "source": [
    "# simple model 2: last 3 days' average is today\n",
    "\n",
    "rolling_avg = new_data_all_resampled.rolling(window=72, min_periods=1).mean()\n",
    "\n",
    "simple_2 = new_data_all_resampled.copy()\n",
    "simple_2.iloc[72:] = rolling_avg.iloc[72:].values\n",
    "\n",
    "simple_2.reset_index(inplace=True)"
   ]
  },
  {
   "cell_type": "code",
   "execution_count": 17,
   "metadata": {},
   "outputs": [],
   "source": [
    "# VAR for all\n",
    "model = VAR(new_data_all_resampled)\n",
    "results = model.fit(maxlags=15, ic='aic')\n",
    "params = results.params\n",
    "var = results.fittedvalues"
   ]
  },
  {
   "cell_type": "markdown",
   "metadata": {},
   "source": [
    "## Ambient temperature"
   ]
  },
  {
   "cell_type": "code",
   "execution_count": 14,
   "metadata": {},
   "outputs": [],
   "source": [
    "# actual data\n",
    "temp_actual = new_data_all_resampled['AMBIENT_TEMPERATURE']\n",
    "\n",
    "# arima 1\n",
    "model_215 = ARIMA(temp_actual, order=(2,1,5))\n",
    "fit_215 = model_215.fit()\n",
    "temp_arima_215 = fit_215.fittedvalues\n",
    "\n",
    "# arima 2\n",
    "model_412 = ARIMA(temp_actual, order=(4,1,2))\n",
    "fit_412 = model_412.fit()\n",
    "temp_arima_412 = fit_412.fittedvalues\n",
    "\n",
    "# simple model 1\n",
    "temp_sim_1 = simple_1['AMBIENT_TEMPERATURE']\n",
    "\n",
    "# simple model 2\n",
    "temp_sim_2 = simple_2['AMBIENT_TEMPERATURE']\n",
    "\n",
    "# VAR\n",
    "\n",
    "#temp_var = \n",
    "\n",
    "# VAR sinus\n",
    "#temp_var_sin ="
   ]
  },
  {
   "cell_type": "markdown",
   "metadata": {},
   "source": [
    "## Air pressure"
   ]
  },
  {
   "cell_type": "code",
   "execution_count": null,
   "metadata": {},
   "outputs": [],
   "source": []
  },
  {
   "cell_type": "markdown",
   "metadata": {},
   "source": [
    "## Rain intensity"
   ]
  },
  {
   "cell_type": "code",
   "execution_count": null,
   "metadata": {},
   "outputs": [],
   "source": []
  },
  {
   "cell_type": "markdown",
   "metadata": {},
   "source": [
    "## Relative humidity"
   ]
  },
  {
   "cell_type": "code",
   "execution_count": null,
   "metadata": {},
   "outputs": [],
   "source": []
  },
  {
   "cell_type": "markdown",
   "metadata": {},
   "source": [
    "## Solar radiation intensity"
   ]
  },
  {
   "cell_type": "code",
   "execution_count": null,
   "metadata": {},
   "outputs": [],
   "source": []
  },
  {
   "cell_type": "markdown",
   "metadata": {},
   "source": [
    "## Wind direction"
   ]
  },
  {
   "cell_type": "code",
   "execution_count": null,
   "metadata": {},
   "outputs": [],
   "source": []
  },
  {
   "cell_type": "markdown",
   "metadata": {},
   "source": [
    "## Wind speed"
   ]
  },
  {
   "cell_type": "code",
   "execution_count": null,
   "metadata": {},
   "outputs": [],
   "source": []
  }
 ],
 "metadata": {
  "kernelspec": {
   "display_name": "geni2024",
   "language": "python",
   "name": "python3"
  },
  "language_info": {
   "codemirror_mode": {
    "name": "ipython",
    "version": 3
   },
   "file_extension": ".py",
   "mimetype": "text/x-python",
   "name": "python",
   "nbconvert_exporter": "python",
   "pygments_lexer": "ipython3",
   "version": "3.11.8"
  }
 },
 "nbformat": 4,
 "nbformat_minor": 2
}
