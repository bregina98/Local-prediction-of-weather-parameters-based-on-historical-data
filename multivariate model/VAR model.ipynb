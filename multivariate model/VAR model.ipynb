{
 "cells": [
  {
   "cell_type": "markdown",
   "metadata": {},
   "source": [
    "# VAR (Vector Auto-regression) model\n",
    "\n",
    "Vector auto-regression is a multivariate forecasting algorithm that is used when more time series influence each other. In this part I will analyse all the weather paramethers together using the vector auto-regression model. Each weather parameter has some dependency on the other ones. \n",
    "\n",
    "Sources: \n",
    "\n",
    "https://www.analyticsvidhya.com/blog/2021/08/vector-autoregressive-model-in-python/\n",
    "\n",
    "Shahanaj Parvin and Murshida Khanam: Comparison Between ARIMA and VAR Model Regarding the Forecasting of the Price of Jute Goods in Bangladesh\n",
    "\n",
    "https://www.aptech.com/blog/introduction-to-the-fundamentals-of-vector-autoregressive-models/#:~:text=with%20VAR%20models.-,What%20is%20a%20vector%20autoregressive%20model%3F,other%20variables%20in%20the%20system."
   ]
  },
  {
   "cell_type": "code",
   "execution_count": null,
   "metadata": {},
   "outputs": [],
   "source": []
  }
 ],
 "metadata": {
  "language_info": {
   "name": "python"
  }
 },
 "nbformat": 4,
 "nbformat_minor": 2
}
