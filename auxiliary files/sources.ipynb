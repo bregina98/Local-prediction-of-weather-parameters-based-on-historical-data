{
 "cells": [
  {
   "cell_type": "markdown",
   "metadata": {},
   "source": [
    "### Sources\n",
    "\n",
    "stacionarnost, ADF, KPSS\n",
    "https://www.analyticsvidhya.com/blog/2021/06/statistical-tests-to-check-stationarity-in-time-series-part-1/#:~:text=checked%20for%20stationarity.-,Conclusion,do%20not%20change%20over%20time.\n",
    "\n",
    "zapiski s predavanj (Basrak)\n",
    "\n",
    "stacionarnost in druga teorija o casovnih vrstah\n",
    "https://otexts.com/fpp2/stationarity.html\n"
   ]
  }
 ],
 "metadata": {
  "kernelspec": {
   "display_name": "Python 3",
   "language": "python",
   "name": "python3"
  },
  "language_info": {
   "name": "python",
   "version": "3.12.0"
  }
 },
 "nbformat": 4,
 "nbformat_minor": 2
}
